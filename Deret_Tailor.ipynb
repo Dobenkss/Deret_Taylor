{
  "nbformat": 4,
  "nbformat_minor": 0,
  "metadata": {
    "colab": {
      "provenance": [],
      "authorship_tag": "ABX9TyOihOzRsM8B3/Iol1lYEgyB",
      "include_colab_link": true
    },
    "kernelspec": {
      "name": "python3",
      "display_name": "Python 3"
    },
    "language_info": {
      "name": "python"
    }
  },
  "cells": [
    {
      "cell_type": "markdown",
      "metadata": {
        "id": "view-in-github",
        "colab_type": "text"
      },
      "source": [
        "<a href=\"https://colab.research.google.com/github/Dobenkss/Deret_Taylor/blob/main/Deret_Tailor.ipynb\" target=\"_parent\"><img src=\"https://colab.research.google.com/assets/colab-badge.svg\" alt=\"Open In Colab\"/></a>"
      ]
    },
    {
      "cell_type": "code",
      "execution_count": null,
      "metadata": {
        "colab": {
          "base_uri": "https://localhost:8080/"
        },
        "id": "k-xl7eVc8Sb4",
        "outputId": "ffeb444f-1afa-4580-dd96-0ea25e8af1f1"
      },
      "outputs": [
        {
          "output_type": "stream",
          "name": "stdout",
          "text": [
            "Nilai sin : 1.5707963267948966, (deret Taylor) : 1.0000000006627803\n",
            "Nilai cos : 1.5707963267948966, (deret Taylor) : 6.321469515740575e-09\n"
          ]
        }
      ],
      "source": [
        "import math\n",
        "\n",
        "#fungsi menghitung deret taylor dari sin(x)\n",
        "def sine_taylor(x, n_terms):\n",
        "  result = 0\n",
        "  for n in range(n_terms):\n",
        "    coefficient = (-1) ** n\n",
        "    result += (coefficient * (x ** (2 * n + 1))) / math.factorial(2 * n + 1)\n",
        "  return result\n",
        "\n",
        "#fungsi untuk menghitung deret taylor dari cos(x)\n",
        "def cosine_taylor(x, n_terms):\n",
        "  result = 0\n",
        "  for n in range(n_terms):\n",
        "    coefficient = (-1) ** n\n",
        "    result += (coefficient * (x ** (2 * n))) / math.factorial(2 * n)\n",
        "  return result\n",
        "\n",
        "#contoh penggunaan deret taylor\n",
        "x_value = math.pi / 2 #contoh sin(pi/4) dan cos(pi/4)\n",
        "n_terms = 7 #jmlh suku deret taylor\n",
        "\n",
        "sin_approximations = sine_taylor(x_value, n_terms)\n",
        "cos_approximations = cosine_taylor(x_value, n_terms)\n",
        "\n",
        "print(f\"Nilai sin : {x_value}, (deret Taylor) : {sin_approximations}\")\n",
        "print(f\"Nilai cos : {x_value}, (deret Taylor) : {cos_approximations}\")"
      ]
    }
  ]
}